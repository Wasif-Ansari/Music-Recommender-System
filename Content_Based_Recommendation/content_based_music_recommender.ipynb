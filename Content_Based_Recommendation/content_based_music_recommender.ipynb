{
 "cells": [
  {
   "cell_type": "markdown",
   "metadata": {},
   "source": [
    "# Music Recommender System\n",
    "\n",
    "Recommendation systems represent a cornerstone in the field of machine learning, playing a pivotal role in predicting user preferences and ratings for various items, such as films, products, or songs.\n",
    "\n",
    "### Types of Recommender Systems\n",
    "\n",
    "Two primary categories define recommender systems:\n",
    "\n",
    "1. **Content-Based Filters**\n",
    "2. **Collaborative Filters**\n",
    "\n",
    "**Content-based filters** ascertain user preferences by analyzing the user's historical likes and dislikes. Conversely, **collaborative filters** predict user preferences based on the likes of other users who share similarities with the target user.\n",
    "\n",
    "### 1) Content-Based Filters\n",
    "\n",
    "Content-based recommenders approach recommendations as a personalized classification problem. These systems learn a user's preferences by examining the features of items, such as songs.\n",
    "\n",
    "A fundamental technique within content-based recommendation is **keyword matching**. This involves extracting meaningful keywords from a user's preferred song description, searching for these keywords in other song descriptions to gauge similarities, and leveraging this information to recommend similar songs to the user.\n",
    "\n",
    "#### Implementation with Term Frequency-Inverse Document Frequency (TF-IDF)\n",
    "\n",
    "Given the textual nature of the data, the **Term Frequency-Inverse Document Frequency (TF-IDF)** method is applied for matching. This technique involves a step-by-step process to generate a content-based music recommender system. The subsequent sections will elucidate the specific steps involved in this implementation.\n"
   ]
  },
  {
   "cell_type": "markdown",
   "metadata": {},
   "source": [
    "### Importing required libraries\n",
    "\n",
    "First, we'll import all the required libraries."
   ]
  },
  {
   "cell_type": "code",
   "execution_count": 1,
   "metadata": {},
   "outputs": [],
   "source": [
    "import numpy as np\n",
    "import pandas as pd"
   ]
  },
  {
   "cell_type": "code",
   "execution_count": 2,
   "metadata": {},
   "outputs": [],
   "source": [
    "from typing import List, Dict"
   ]
  },
  {
   "cell_type": "markdown",
   "metadata": {},
   "source": [
    "We have already used the **TF-IDF score before** when performing Twitter sentiment analysis. \n",
    "\n",
    "Likewise, we are going to use TfidfVectorizer from the Scikit-learn package again."
   ]
  },
  {
   "cell_type": "code",
   "execution_count": 3,
   "metadata": {},
   "outputs": [],
   "source": [
    "from sklearn.feature_extraction.text import TfidfVectorizer\n",
    "from sklearn.metrics.pairwise import cosine_similarity"
   ]
  },
  {
   "cell_type": "markdown",
   "metadata": {},
   "source": [
    "### Dataset"
   ]
  },
  {
   "cell_type": "markdown",
   "metadata": {},
   "source": [
    "So imagine that we have the [following dataset](https://www.kaggle.com/datasets/notshrirang/spotify-million-song-dataset/data). \n",
    "\n",
    "This dataset contains name, artist, and lyrics for *57650 songs in English*. The data has been acquired from LyricsFreak through scraping."
   ]
  },
  {
   "cell_type": "code",
   "execution_count": 4,
   "metadata": {},
   "outputs": [],
   "source": [
    "songs = pd.read_csv('./songdata.csv')"
   ]
  },
  {
   "cell_type": "code",
   "execution_count": 18,
   "metadata": {},
   "outputs": [
    {
     "data": {
      "text/html": [
       "<div>\n",
       "<style scoped>\n",
       "    .dataframe tbody tr th:only-of-type {\n",
       "        vertical-align: middle;\n",
       "    }\n",
       "\n",
       "    .dataframe tbody tr th {\n",
       "        vertical-align: top;\n",
       "    }\n",
       "\n",
       "    .dataframe thead th {\n",
       "        text-align: right;\n",
       "    }\n",
       "</style>\n",
       "<table border=\"1\" class=\"dataframe\">\n",
       "  <thead>\n",
       "    <tr style=\"text-align: right;\">\n",
       "      <th></th>\n",
       "      <th>artist</th>\n",
       "      <th>song</th>\n",
       "      <th>text</th>\n",
       "    </tr>\n",
       "  </thead>\n",
       "  <tbody>\n",
       "    <tr>\n",
       "      <th>0</th>\n",
       "      <td>Kelly Clarkson</td>\n",
       "      <td>Walk Away</td>\n",
       "      <td>You've got your mother and your brother  \\nEve...</td>\n",
       "    </tr>\n",
       "    <tr>\n",
       "      <th>1</th>\n",
       "      <td>Hanson</td>\n",
       "      <td>World's On Fire</td>\n",
       "      <td>Watched from a distance, it's beautiful  \\nSom...</td>\n",
       "    </tr>\n",
       "    <tr>\n",
       "      <th>2</th>\n",
       "      <td>Kinks</td>\n",
       "      <td>Jack The Idiot Dunce</td>\n",
       "      <td>Who's the fool with the cross-eyed stare,  \\nT...</td>\n",
       "    </tr>\n",
       "    <tr>\n",
       "      <th>3</th>\n",
       "      <td>Mary Black</td>\n",
       "      <td>Going Gone</td>\n",
       "      <td>There is a lighthouse in the harbor  \\nGiving ...</td>\n",
       "    </tr>\n",
       "    <tr>\n",
       "      <th>4</th>\n",
       "      <td>The Beatles</td>\n",
       "      <td>All My Loving</td>\n",
       "      <td>Close your eyes and I'll kiss you  \\nTomorrow ...</td>\n",
       "    </tr>\n",
       "    <tr>\n",
       "      <th>5</th>\n",
       "      <td>Prince</td>\n",
       "      <td>Call My Name</td>\n",
       "      <td>Call, call my name  \\nCall it, call my name  \\...</td>\n",
       "    </tr>\n",
       "    <tr>\n",
       "      <th>6</th>\n",
       "      <td>Oingo Boingo</td>\n",
       "      <td>You Really Got Me</td>\n",
       "      <td>Girl, you really got me now  \\nYou got me so I...</td>\n",
       "    </tr>\n",
       "    <tr>\n",
       "      <th>7</th>\n",
       "      <td>Lady Gaga</td>\n",
       "      <td>Im On The Edge Of Glory</td>\n",
       "      <td>There aint no reason you and me should be alon...</td>\n",
       "    </tr>\n",
       "    <tr>\n",
       "      <th>8</th>\n",
       "      <td>Reba Mcentire</td>\n",
       "      <td>I Wouldn't Know</td>\n",
       "      <td>Everyone I see these days still asks me about ...</td>\n",
       "    </tr>\n",
       "    <tr>\n",
       "      <th>9</th>\n",
       "      <td>Lionel Richie</td>\n",
       "      <td>Stay</td>\n",
       "      <td>Are you sad  \\nOr just a little lonely  \\nI ca...</td>\n",
       "    </tr>\n",
       "  </tbody>\n",
       "</table>\n",
       "</div>"
      ],
      "text/plain": [
       "           artist                     song  \\\n",
       "0  Kelly Clarkson                Walk Away   \n",
       "1          Hanson          World's On Fire   \n",
       "2           Kinks     Jack The Idiot Dunce   \n",
       "3      Mary Black               Going Gone   \n",
       "4     The Beatles            All My Loving   \n",
       "5          Prince             Call My Name   \n",
       "6    Oingo Boingo        You Really Got Me   \n",
       "7       Lady Gaga  Im On The Edge Of Glory   \n",
       "8   Reba Mcentire          I Wouldn't Know   \n",
       "9   Lionel Richie                     Stay   \n",
       "\n",
       "                                                text  \n",
       "0  You've got your mother and your brother  \\nEve...  \n",
       "1  Watched from a distance, it's beautiful  \\nSom...  \n",
       "2  Who's the fool with the cross-eyed stare,  \\nT...  \n",
       "3  There is a lighthouse in the harbor  \\nGiving ...  \n",
       "4  Close your eyes and I'll kiss you  \\nTomorrow ...  \n",
       "5  Call, call my name  \\nCall it, call my name  \\...  \n",
       "6  Girl, you really got me now  \\nYou got me so I...  \n",
       "7  There aint no reason you and me should be alon...  \n",
       "8  Everyone I see these days still asks me about ...  \n",
       "9  Are you sad  \\nOr just a little lonely  \\nI ca...  "
      ]
     },
     "execution_count": 18,
     "metadata": {},
     "output_type": "execute_result"
    }
   ],
   "source": [
    "songs.head(10)"
   ]
  },
  {
   "cell_type": "markdown",
   "metadata": {},
   "source": [
    "Because of the dataset being so big, we are going to resample only 5000 random songs."
   ]
  },
  {
   "cell_type": "code",
   "execution_count": 6,
   "metadata": {},
   "outputs": [],
   "source": [
    "songs = songs.sample(n=5000).drop('link', axis=1).reset_index(drop=True)"
   ]
  },
  {
   "cell_type": "markdown",
   "metadata": {},
   "source": [
    "We can notice also the presence of `\\n` in the text, so we are going to remove it."
   ]
  },
  {
   "cell_type": "code",
   "execution_count": 7,
   "metadata": {},
   "outputs": [],
   "source": [
    "songs['text'] = songs['text'].str.replace(r'\\n', '')"
   ]
  },
  {
   "cell_type": "markdown",
   "metadata": {},
   "source": [
    "After that, we use TF-IDF vectorizer that calculates the TF-IDF score for each song lyric, word-by-word. \n",
    "\n",
    "Here, we pay particular attention to the arguments we can specify."
   ]
  },
  {
   "cell_type": "code",
   "execution_count": 8,
   "metadata": {},
   "outputs": [],
   "source": [
    "tfidf = TfidfVectorizer(analyzer='word', stop_words='english')"
   ]
  },
  {
   "cell_type": "code",
   "execution_count": 9,
   "metadata": {},
   "outputs": [],
   "source": [
    "lyrics_matrix = tfidf.fit_transform(songs['text'])"
   ]
  },
  {
   "cell_type": "markdown",
   "metadata": {},
   "source": [
    "*How do we use this matrix for a recommendation?* \n",
    "\n",
    "We now need to calculate the similarity of one lyric to another. We are going to use **cosine similarity**.\n",
    "\n",
    "We want to calculate the cosine similarity of each item with every other item in the dataset. So we just pass the lyrics_matrix as argument."
   ]
  },
  {
   "cell_type": "code",
   "execution_count": 10,
   "metadata": {},
   "outputs": [],
   "source": [
    "cosine_similarities = cosine_similarity(lyrics_matrix) "
   ]
  },
  {
   "cell_type": "markdown",
   "metadata": {},
   "source": [
    "Once we get the similarities, we'll store in a dictionary the names of the 50  most similar songs for each song in our dataset."
   ]
  },
  {
   "cell_type": "code",
   "execution_count": 11,
   "metadata": {},
   "outputs": [],
   "source": [
    "similarities = {}"
   ]
  },
  {
   "cell_type": "code",
   "execution_count": 12,
   "metadata": {},
   "outputs": [],
   "source": [
    "for i in range(len(cosine_similarities)):\n",
    "    # Now we'll sort each element in cosine_similarities and get the indexes of the songs. \n",
    "    similar_indices = cosine_similarities[i].argsort()[:-50:-1] \n",
    "    # After that, we'll store in similarities each name of the 50 most similar songs.\n",
    "    # Except the first one that is the same song.\n",
    "    similarities[songs['song'].iloc[i]] = [(cosine_similarities[i][x], songs['song'][x], songs['artist'][x]) for x in similar_indices][1:]"
   ]
  },
  {
   "cell_type": "markdown",
   "metadata": {},
   "source": [
    "Now, We can use that similarity scores to access the most similar items and give a recommendation.\n",
    "\n",
    "For that, we'll define our Content based recommender class."
   ]
  },
  {
   "cell_type": "code",
   "execution_count": 13,
   "metadata": {},
   "outputs": [],
   "source": [
    "class ContentBasedRecommender:\n",
    "    def __init__(self, matrix):\n",
    "        self.matrix_similar = matrix\n",
    "\n",
    "    def _print_message(self, song, recom_song):\n",
    "        rec_items = len(recom_song)\n",
    "        \n",
    "        print(f'The {rec_items} recommended songs for {song} are:')\n",
    "        for i in range(rec_items):\n",
    "            print(f\"Number {i+1}:\")\n",
    "            print(f\"{recom_song[i][1]} by {recom_song[i][2]} with {round(recom_song[i][0], 3)} similarity score\") \n",
    "            print(\"--------------------\")\n",
    "        \n",
    "    def recommend(self, recommendation):\n",
    "        # Get song to find recommendations for\n",
    "        song = recommendation['song']\n",
    "        # Get number of songs to recommend\n",
    "        number_songs = recommendation['number_songs']\n",
    "        # Get the number of songs most similars from matrix similarities\n",
    "        recom_song = self.matrix_similar[song][:number_songs]\n",
    "        # print each item\n",
    "        self._print_message(song=song, recom_song=recom_song)"
   ]
  },
  {
   "cell_type": "markdown",
   "metadata": {},
   "source": [
    "Now, instantiate class"
   ]
  },
  {
   "cell_type": "code",
   "execution_count": 14,
   "metadata": {},
   "outputs": [],
   "source": [
    "recommedations = ContentBasedRecommender(similarities)"
   ]
  },
  {
   "cell_type": "markdown",
   "metadata": {},
   "source": [
    "Then, we are ready to pick a song from the dataset and make a recommendation."
   ]
  },
  {
   "cell_type": "code",
   "execution_count": 21,
   "metadata": {},
   "outputs": [
    {
     "data": {
      "text/plain": [
       "'Walk Away'"
      ]
     },
     "execution_count": 21,
     "metadata": {},
     "output_type": "execute_result"
    }
   ],
   "source": [
    "recommendation = {\n",
    "    \"song\": songs['song'][0],\n",
    "    \"number_songs\": 4 \n",
    "}\n",
    "\n",
    "songs['song'][0]"
   ]
  },
  {
   "cell_type": "code",
   "execution_count": 22,
   "metadata": {},
   "outputs": [
    {
     "name": "stdout",
     "output_type": "stream",
     "text": [
      "The 4 recommended songs for Walk Away are:\n",
      "Number 1:\n",
      "Walk Away by Kelly Clarkson with 0.353 similarity score\n",
      "--------------------\n",
      "Number 2:\n",
      "Fordham Road by Lana Del Rey with 0.353 similarity score\n",
      "--------------------\n",
      "Number 3:\n",
      "Walk Away From Love by Yazoo with 0.343 similarity score\n",
      "--------------------\n",
      "Number 4:\n",
      "Don't Look Back by Peter Tosh with 0.283 similarity score\n",
      "--------------------\n"
     ]
    }
   ],
   "source": [
    "recommedations.recommend(recommendation)"
   ]
  },
  {
   "cell_type": "markdown",
   "metadata": {},
   "source": [
    "And we can pick another random song and recommend again:"
   ]
  },
  {
   "cell_type": "code",
   "execution_count": 16,
   "metadata": {},
   "outputs": [],
   "source": [
    "recommendation2 = {\n",
    "    \"song\": songs['song'].iloc[120],\n",
    "    \"number_songs\": 4 \n",
    "}"
   ]
  },
  {
   "cell_type": "code",
   "execution_count": 17,
   "metadata": {},
   "outputs": [
    {
     "name": "stdout",
     "output_type": "stream",
     "text": [
      "The 4 recommended songs for Movin' are:\n",
      "Number 1:\n",
      "Don't Stop Moving by Beautiful South with 0.348 similarity score\n",
      "--------------------\n",
      "Number 2:\n",
      "I'll Spend My Life With You by The Monkees with 0.285 similarity score\n",
      "--------------------\n",
      "Number 3:\n",
      "Drifter by Deep Purple with 0.253 similarity score\n",
      "--------------------\n",
      "Number 4:\n",
      "Hong Kong Bar by Tim Buckley with 0.251 similarity score\n",
      "--------------------\n"
     ]
    }
   ],
   "source": [
    "recommedations.recommend(recommendation2)"
   ]
  }
 ],
 "metadata": {
  "kernelspec": {
   "display_name": "Python 3",
   "language": "python",
   "name": "python3"
  },
  "language_info": {
   "codemirror_mode": {
    "name": "ipython",
    "version": 3
   },
   "file_extension": ".py",
   "mimetype": "text/x-python",
   "name": "python",
   "nbconvert_exporter": "python",
   "pygments_lexer": "ipython3",
   "version": "3.11.3"
  }
 },
 "nbformat": 4,
 "nbformat_minor": 2
}
